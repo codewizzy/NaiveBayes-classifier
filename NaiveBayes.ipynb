{
  "nbformat": 4,
  "nbformat_minor": 0,
  "metadata": {
    "colab": {
      "name": "NaiveBayes.ipynb",
      "provenance": [],
      "collapsed_sections": []
    },
    "kernelspec": {
      "name": "python3",
      "display_name": "Python 3"
    }
  },
  "cells": [
    {
      "cell_type": "code",
      "metadata": {
        "colab": {
          "base_uri": "https://localhost:8080/"
        },
        "id": "pRj8d-Vk5WYy",
        "outputId": "76d1007c-ef2f-47b3-8251-573b8606c7db"
      },
      "source": [
        "from google.colab import drive\r\n",
        "drive.mount('/content/drive')"
      ],
      "execution_count": 1,
      "outputs": [
        {
          "output_type": "stream",
          "text": [
            "Mounted at /content/drive\n"
          ],
          "name": "stdout"
        }
      ]
    },
    {
      "cell_type": "code",
      "metadata": {
        "id": "KvMW-w7S5F47"
      },
      "source": [
        "\r\n",
        "import pandas\r\n",
        "from math import inf\r\n",
        "\r\n",
        "df=pandas.read_excel('/content/drive/MyDrive/DATASET.xlsx')\r\n",
        "df=df.drop(columns=['Example'])"
      ],
      "execution_count": 3,
      "outputs": []
    },
    {
      "cell_type": "code",
      "metadata": {
        "id": "V1Q5i8VxC_B9"
      },
      "source": [
        "test = ('T', 'T', 'F', 'T', 'Some', '$$$', 'T', 'T', 'Italian', '>60')\r\n",
        "cls = 'Target Wait'\r\n"
      ],
      "execution_count": 39,
      "outputs": []
    },
    {
      "cell_type": "code",
      "metadata": {
        "colab": {
          "base_uri": "https://localhost:8080/"
        },
        "id": "O0ZrvKTX51Kj",
        "outputId": "2d8b66ea-0ed2-4638-f605-cfcc656361ae"
      },
      "source": [
        "\r\n",
        "mx_prob=(-inf,None)\r\n",
        "features=[feat for feat in data_list.columns if feat != cls]\r\n",
        "x1 = data_list.groupby(cls)\r\n",
        "# print(x1.first())\r\n",
        "for label,tdf in data_list.groupby(cls):\r\n",
        "  tdf_prob=1 \r\n",
        "  tdf_len=len(tdf) + 1\r\n",
        "  length=len(data_list)\r\n",
        "  for index, column in enumerate(features):\r\n",
        "      tdf_prob *= (1+len(tdf.loc[tdf[column] == test[index]]))/tdf_len\r\n",
        "  tdf_prob *= tdf_len/length\r\n",
        "  if tdf_prob>mx_prob[0]:\r\n",
        "      mx_prob=(tdf_prob, label)\r\n",
        "print(\"Label for the test data is : \",mx_prob[1])   "
      ],
      "execution_count": 43,
      "outputs": [
        {
          "output_type": "stream",
          "text": [
            "Label for the test data is :  T\n"
          ],
          "name": "stdout"
        }
      ]
    }
  ]
}